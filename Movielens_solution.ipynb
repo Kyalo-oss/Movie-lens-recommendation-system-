{
  "metadata": {
    "kernelspec": {
      "language": "python",
      "display_name": "Python 3",
      "name": "python3"
    },
    "language_info": {
      "name": "python",
      "version": "3.10.12",
      "mimetype": "text/x-python",
      "codemirror_mode": {
        "name": "ipython",
        "version": 3
      },
      "pygments_lexer": "ipython3",
      "nbconvert_exporter": "python",
      "file_extension": ".py"
    },
    "kaggle": {
      "accelerator": "none",
      "dataSources": [
        {
          "sourceId": 258538,
          "sourceType": "datasetVersion",
          "datasetId": 108335
        }
      ],
      "dockerImageVersionId": 30558,
      "isInternetEnabled": true,
      "language": "python",
      "sourceType": "notebook",
      "isGpuEnabled": false
    },
    "colab": {
      "name": "Movielens solution",
      "provenance": [],
      "include_colab_link": true
    }
  },
  "nbformat_minor": 0,
  "nbformat": 4,
  "cells": [
    {
      "cell_type": "markdown",
      "metadata": {
        "id": "view-in-github",
        "colab_type": "text"
      },
      "source": [
        "<a href=\"https://colab.research.google.com/github/Kyalo-oss/Movie-lens-recommendation-system-/blob/main/Movielens_solution.ipynb\" target=\"_parent\"><img src=\"https://colab.research.google.com/assets/colab-badge.svg\" alt=\"Open In Colab\"/></a>"
      ]
    },
    {
      "source": [
        "\n",
        "# IMPORTANT: RUN THIS CELL IN ORDER TO IMPORT YOUR KAGGLE DATA SOURCES\n",
        "# TO THE CORRECT LOCATION (/kaggle/input) IN YOUR NOTEBOOK,\n",
        "# THEN FEEL FREE TO DELETE THIS CELL.\n",
        "# NOTE: THIS NOTEBOOK ENVIRONMENT DIFFERS FROM KAGGLE'S PYTHON\n",
        "# ENVIRONMENT SO THERE MAY BE MISSING LIBRARIES USED BY YOUR\n",
        "# NOTEBOOK.\n",
        "\n",
        "import os\n",
        "import sys\n",
        "from tempfile import NamedTemporaryFile\n",
        "from urllib.request import urlopen\n",
        "from urllib.parse import unquote, urlparse\n",
        "from urllib.error import HTTPError\n",
        "from zipfile import ZipFile\n",
        "import tarfile\n",
        "import shutil\n",
        "\n",
        "CHUNK_SIZE = 40960\n",
        "DATA_SOURCE_MAPPING = 'movielens:https%3A%2F%2Fstorage.googleapis.com%2Fkaggle-data-sets%2F108335%2F258538%2Fbundle%2Farchive.zip%3FX-Goog-Algorithm%3DGOOG4-RSA-SHA256%26X-Goog-Credential%3Dgcp-kaggle-com%2540kaggle-161607.iam.gserviceaccount.com%252F20240604%252Fauto%252Fstorage%252Fgoog4_request%26X-Goog-Date%3D20240604T153623Z%26X-Goog-Expires%3D259200%26X-Goog-SignedHeaders%3Dhost%26X-Goog-Signature%3D9080a4071bec0153cbca2ebec73faf8dc724d367e1cdfb3b19bae70b2cb6678e3e4a331d6a35e744932078b257756c3509ee5423b0ce0ec1762754a7eb06789497f372d884f4b5fd476e0dd26e1c0f04d62af354dc9214f6f0e558877ee0728c8e3be7c2fedd9e1d4aba04f04c72c6f486c1ca6f4564d6132ea40555b1f958cc3cd7ba371a2042667953483c84cbec2b351cf967953b7dc9fd8e921eecb529bd46a7ed480e5ae73102f362b7a17026a4c80e1cfe29eccd120127d2d6a214c2f558182c1c1a554663a74d8efb389eada89c0e6971ed7f629d30e98283d20512bf044e51fa6ebdc029cba862fb1eac924d55b11f5d2a6faab1e2af9974eb69904f'\n",
        "\n",
        "KAGGLE_INPUT_PATH='/kaggle/input'\n",
        "KAGGLE_WORKING_PATH='/kaggle/working'\n",
        "KAGGLE_SYMLINK='kaggle'\n",
        "\n",
        "!umount /kaggle/input/ 2> /dev/null\n",
        "shutil.rmtree('/kaggle/input', ignore_errors=True)\n",
        "os.makedirs(KAGGLE_INPUT_PATH, 0o777, exist_ok=True)\n",
        "os.makedirs(KAGGLE_WORKING_PATH, 0o777, exist_ok=True)\n",
        "\n",
        "try:\n",
        "  os.symlink(KAGGLE_INPUT_PATH, os.path.join(\"..\", 'input'), target_is_directory=True)\n",
        "except FileExistsError:\n",
        "  pass\n",
        "try:\n",
        "  os.symlink(KAGGLE_WORKING_PATH, os.path.join(\"..\", 'working'), target_is_directory=True)\n",
        "except FileExistsError:\n",
        "  pass\n",
        "\n",
        "for data_source_mapping in DATA_SOURCE_MAPPING.split(','):\n",
        "    directory, download_url_encoded = data_source_mapping.split(':')\n",
        "    download_url = unquote(download_url_encoded)\n",
        "    filename = urlparse(download_url).path\n",
        "    destination_path = os.path.join(KAGGLE_INPUT_PATH, directory)\n",
        "    try:\n",
        "        with urlopen(download_url) as fileres, NamedTemporaryFile() as tfile:\n",
        "            total_length = fileres.headers['content-length']\n",
        "            print(f'Downloading {directory}, {total_length} bytes compressed')\n",
        "            dl = 0\n",
        "            data = fileres.read(CHUNK_SIZE)\n",
        "            while len(data) > 0:\n",
        "                dl += len(data)\n",
        "                tfile.write(data)\n",
        "                done = int(50 * dl / int(total_length))\n",
        "                sys.stdout.write(f\"\\r[{'=' * done}{' ' * (50-done)}] {dl} bytes downloaded\")\n",
        "                sys.stdout.flush()\n",
        "                data = fileres.read(CHUNK_SIZE)\n",
        "            if filename.endswith('.zip'):\n",
        "              with ZipFile(tfile) as zfile:\n",
        "                zfile.extractall(destination_path)\n",
        "            else:\n",
        "              with tarfile.open(tfile.name) as tarfile:\n",
        "                tarfile.extractall(destination_path)\n",
        "            print(f'\\nDownloaded and uncompressed: {directory}')\n",
        "    except HTTPError as e:\n",
        "        print(f'Failed to load (likely expired) {download_url} to path {destination_path}')\n",
        "        continue\n",
        "    except OSError as e:\n",
        "        print(f'Failed to load {download_url} to path {destination_path}')\n",
        "        continue\n",
        "\n",
        "print('Data source import complete.')\n"
      ],
      "metadata": {
        "id": "VFe429wA5P6T"
      },
      "cell_type": "code",
      "outputs": [],
      "execution_count": null
    },
    {
      "cell_type": "code",
      "source": [
        "# This Python 3 environment comes with many helpful analytics libraries installed\n",
        "# It is defined by the kaggle/python Docker image: https://github.com/kaggle/docker-python\n",
        "# For example, here's several helpful packages to load\n",
        "\n",
        "import numpy as np # linear algebra\n",
        "import pandas as pd # data processing, CSV file I/O (e.g. pd.read_csv)\n",
        "\n",
        "# Input data files are available in the read-only \"../input/\" directory\n",
        "# For example, running this (by clicking run or pressing Shift+Enter) will list all files under the input directory\n",
        "\n",
        "import os\n",
        "for dirname, _, filenames in os.walk('/kaggle/input'):\n",
        "    for filename in filenames:\n",
        "        print(os.path.join(dirname, filename))\n",
        "\n",
        "# You can write up to 20GB to the current directory (/kaggle/working/) that gets preserved as output when you create a version using \"Save & Run All\"\n",
        "# You can also write temporary files to /kaggle/temp/, but they won't be saved outside of the current session"
      ],
      "metadata": {
        "_uuid": "8f2839f25d086af736a60e9eeb907d3b93b6e0e5",
        "_cell_guid": "b1076dfc-b9ad-4769-8c92-a6c4dae69d19",
        "execution": {
          "iopub.status.busy": "2024-05-22T14:38:18.977838Z",
          "iopub.execute_input": "2024-05-22T14:38:18.978415Z",
          "iopub.status.idle": "2024-05-22T14:38:19.013541Z",
          "shell.execute_reply.started": "2024-05-22T14:38:18.978375Z",
          "shell.execute_reply": "2024-05-22T14:38:19.012057Z"
        },
        "trusted": true,
        "id": "JC8NNm125P6a"
      },
      "execution_count": null,
      "outputs": []
    },
    {
      "cell_type": "markdown",
      "source": [
        "# MOVIELENS RECOMMENDATION SYSTEM"
      ],
      "metadata": {
        "id": "yhejVXBa5P6b"
      }
    },
    {
      "cell_type": "markdown",
      "source": [
        "Movie recommendation systems are essential in the current digital era because people looking for personalized recommendations may become overwhelmed by the sheer amount of available movie content. ⁤⁤This project seeks to create a strong recommendation system by utilizing the MovieLens dataset. ⁤⁤We try to find patterns and trends by carefully prepping and examining the dataset for insights. ⁤⁤Our goal is to develop a dynamic recommendation system that not only makes movie selection easier but also improves user experiences by offering personalized suggestions, boosting content discovery, and encouraging engagement in the varied world of cinema through the application of collaborative filtering techniques like matrix factorization or nearest neighbors methods."
      ],
      "metadata": {
        "id": "ZJoVTlQ25P6d"
      }
    },
    {
      "cell_type": "code",
      "source": [
        "# Import Necessary Libraries\n",
        "import pandas as pd\n",
        "import numpy as np\n",
        "import seaborn as sns\n",
        "import matplotlib.pyplot as plt\n",
        "from surprise.model_selection import train_test_split\n",
        "from surprise import Dataset, Reader, SVD, accuracy\n"
      ],
      "metadata": {
        "execution": {
          "iopub.status.busy": "2024-05-22T14:38:19.016286Z",
          "iopub.execute_input": "2024-05-22T14:38:19.018129Z",
          "iopub.status.idle": "2024-05-22T14:38:19.026561Z",
          "shell.execute_reply.started": "2024-05-22T14:38:19.018055Z",
          "shell.execute_reply": "2024-05-22T14:38:19.024881Z"
        },
        "trusted": true,
        "id": "zKl98NRq5P6e"
      },
      "execution_count": null,
      "outputs": []
    },
    {
      "cell_type": "markdown",
      "source": [
        "\n",
        "# DATA PREPARATION AND EXPLORATION\n"
      ],
      "metadata": {
        "id": "amUlZBUh5P6f"
      }
    },
    {
      "cell_type": "code",
      "source": [
        "# Loading movies.dat\n",
        "movies = pd.read_csv('/kaggle/input/movielens/movies.dat', sep='::', names=['MovieID', 'Title', 'Genres'], engine='python', encoding='latin1')\n",
        "\n",
        "print(\"Movies:\")\n",
        "print(movies.head(10))\n",
        "\n",
        "# Checking for missing values\n",
        "print(\"Movies missing values:\")\n",
        "print(movies.isnull().sum())\n",
        "\n",
        "\n"
      ],
      "metadata": {
        "execution": {
          "iopub.status.busy": "2024-05-22T14:38:19.029512Z",
          "iopub.execute_input": "2024-05-22T14:38:19.030156Z",
          "iopub.status.idle": "2024-05-22T14:38:19.086847Z",
          "shell.execute_reply.started": "2024-05-22T14:38:19.030112Z",
          "shell.execute_reply": "2024-05-22T14:38:19.084969Z"
        },
        "trusted": true,
        "id": "GaETkB3Q5P6g"
      },
      "execution_count": null,
      "outputs": []
    },
    {
      "cell_type": "code",
      "source": [
        "# loading Users.dat file\n",
        "users = pd.read_csv('/kaggle/input/movielens/users.dat', sep='::', names=['UserID', 'Gender', 'Age', 'Occupation', 'Zip-code'], engine='python', encoding='latin1')\n",
        "\n",
        "print(\"Users:\")\n",
        "print(users.head(10))\n",
        "\n",
        "print(\"Users missing values:\")\n",
        "print(users.isna().sum())"
      ],
      "metadata": {
        "execution": {
          "iopub.status.busy": "2024-05-22T14:38:19.09116Z",
          "iopub.execute_input": "2024-05-22T14:38:19.091899Z",
          "iopub.status.idle": "2024-05-22T14:38:19.178349Z",
          "shell.execute_reply.started": "2024-05-22T14:38:19.09185Z",
          "shell.execute_reply": "2024-05-22T14:38:19.177001Z"
        },
        "trusted": true,
        "id": "GdxO8j585P6g"
      },
      "execution_count": null,
      "outputs": []
    },
    {
      "cell_type": "code",
      "source": [
        "# Dropping Occupation and Zip-code columns\n",
        "users.drop(['Occupation', 'Zip-code'],axis=1, inplace=True)\n"
      ],
      "metadata": {
        "execution": {
          "iopub.status.busy": "2024-05-22T14:38:19.180498Z",
          "iopub.execute_input": "2024-05-22T14:38:19.181394Z",
          "iopub.status.idle": "2024-05-22T14:38:19.191791Z",
          "shell.execute_reply.started": "2024-05-22T14:38:19.181342Z",
          "shell.execute_reply": "2024-05-22T14:38:19.1892Z"
        },
        "trusted": true,
        "id": "7wtKRou35P6h"
      },
      "execution_count": null,
      "outputs": []
    },
    {
      "cell_type": "code",
      "source": [
        "# loading Ratings.dat file\n",
        "ratings = pd.read_csv('/kaggle/input/movielens/ratings.dat', sep='::', names=['UserID', 'MovieID', 'Rating', 'Timestamp'], engine='python', encoding='latin1')\n",
        "\n",
        "print(\"Ratings:\")\n",
        "print(ratings.head(10))\n",
        "\n",
        "print(\"ratings missing values:\")\n",
        "print(ratings.isna().sum())"
      ],
      "metadata": {
        "execution": {
          "iopub.status.busy": "2024-05-22T14:38:19.194555Z",
          "iopub.execute_input": "2024-05-22T14:38:19.195108Z",
          "iopub.status.idle": "2024-05-22T14:38:32.279633Z",
          "shell.execute_reply.started": "2024-05-22T14:38:19.19507Z",
          "shell.execute_reply": "2024-05-22T14:38:32.277677Z"
        },
        "trusted": true,
        "id": "651Xm20P5P6h"
      },
      "execution_count": null,
      "outputs": []
    },
    {
      "cell_type": "code",
      "source": [
        "#Dropping column Timestamp\n",
        "ratings = ratings.drop(\"Timestamp\", axis=1)\n"
      ],
      "metadata": {
        "execution": {
          "iopub.status.busy": "2024-05-22T14:38:32.281577Z",
          "iopub.execute_input": "2024-05-22T14:38:32.282141Z",
          "iopub.status.idle": "2024-05-22T14:38:32.299979Z",
          "shell.execute_reply.started": "2024-05-22T14:38:32.282104Z",
          "shell.execute_reply": "2024-05-22T14:38:32.297711Z"
        },
        "trusted": true,
        "id": "zavf4d1j5P6i"
      },
      "execution_count": null,
      "outputs": []
    },
    {
      "cell_type": "code",
      "source": [
        "ratings.head(10)"
      ],
      "metadata": {
        "execution": {
          "iopub.status.busy": "2024-05-22T14:38:32.302601Z",
          "iopub.execute_input": "2024-05-22T14:38:32.303256Z",
          "iopub.status.idle": "2024-05-22T14:38:32.327447Z",
          "shell.execute_reply.started": "2024-05-22T14:38:32.303205Z",
          "shell.execute_reply": "2024-05-22T14:38:32.325812Z"
        },
        "trusted": true,
        "id": "Rm-3iEv05P6i"
      },
      "execution_count": null,
      "outputs": []
    },
    {
      "cell_type": "markdown",
      "source": [
        "# DATA ANALYSIS AND VISUALIZATION"
      ],
      "metadata": {
        "id": "KuOIOfgZ5P6j"
      }
    },
    {
      "cell_type": "markdown",
      "source": [
        "# Analysis of User Engagement and Content Popularity\n",
        "\n",
        "\n",
        "We explore the trends in user interaction and popular content on our platform in this section. Through the analysis of interaction frequency that is, the quantity of user-provided ratings we are able to derive important insights about user behavior and trends in content consumption.\n",
        "\n",
        "**User Engagement Analysis**\n",
        "\n",
        "First, we determine which users are the most engaged with our platform. Through this, we can identify the most active users—those who routinely watch a lot of movies—regardless of the ratings given. Comprehending the engagement patterns of users is imperative for proficient user segmentation, focused marketing campaigns, and the provision of customized suggestions based on individual preferences.\n",
        "\n",
        "**Content Popularity Assessment**\n",
        "\n",
        "⁤Furthermore, we explore the popularity of movies within our platform, irrespective of their ratings. ⁤⁤By analyzing the frequency of movie views and interactions, we identify the movies that garner the highest levels of viewership. ⁤⁤This insight is invaluable for content acquisition strategies, licensing negotiations, and decisions regarding future content production or acquisition. ⁤In this case, since we don't have the number of times each user has watched a movie, we use ratings count as the number each user has watched the movie.\n",
        "\n",
        "This are crucial steps towards optimizing platform performance, enhancing user experience, and refining content curation algorithms to better align with user preferences and viewing habits\n"
      ],
      "metadata": {
        "id": "6kuBNo9q5P6j"
      }
    },
    {
      "cell_type": "code",
      "source": [
        "\n",
        "# Merge User and Ratings data on 'UserID'\n",
        "user_ratings = ratings.merge(users, on='UserID')\n",
        "\n",
        "# Display the merged DataFrame\n",
        "user_ratings.head(10)"
      ],
      "metadata": {
        "execution": {
          "iopub.status.busy": "2024-05-22T14:38:32.32944Z",
          "iopub.execute_input": "2024-05-22T14:38:32.329894Z",
          "iopub.status.idle": "2024-05-22T14:38:32.446434Z",
          "shell.execute_reply.started": "2024-05-22T14:38:32.329858Z",
          "shell.execute_reply": "2024-05-22T14:38:32.444654Z"
        },
        "trusted": true,
        "id": "R10rAbRq5P6j"
      },
      "execution_count": null,
      "outputs": []
    },
    {
      "cell_type": "markdown",
      "source": [
        "First and Foremost we will start by showing the total number of users on the platform, followed by a breakdown by gender"
      ],
      "metadata": {
        "id": "BkmYeYvo5P6k"
      }
    },
    {
      "cell_type": "code",
      "source": [
        "# Gender Distribution\n",
        "\n",
        "gender_counts = user_ratings['Gender'].value_counts()\n",
        "\n",
        "Male = gender_counts.get('M', 0)\n",
        "Female = gender_counts.get('F', 0)\n",
        "\n",
        "print(\"Number of users by Gender: \")\n",
        "print(\"Males: \", Male)\n",
        "print(\"Females: \", Female)\n",
        "print(\"Total :\", Male + Female)\n",
        "\n",
        "# Colors for Gender bars\n",
        "colors = ['blue' if gender == 'M' else 'coral' for gender in gender_counts.index]\n",
        "\n",
        "# Gender Plot\n",
        "\n",
        "plt.figure(figsize=(9,6))\n",
        "plt.bar(gender_counts.index, gender_counts.values, width=0.5 ,color=colors)\n",
        "plt.xlabel(\"Gender\")\n",
        "plt.ylabel(\"Number of Users\")\n",
        "plt.title(\"Gender Distribution\")\n",
        "plt.show()"
      ],
      "metadata": {
        "execution": {
          "iopub.status.busy": "2024-05-22T14:38:32.451301Z",
          "iopub.execute_input": "2024-05-22T14:38:32.451759Z",
          "iopub.status.idle": "2024-05-22T14:38:32.895767Z",
          "shell.execute_reply.started": "2024-05-22T14:38:32.451726Z",
          "shell.execute_reply": "2024-05-22T14:38:32.894457Z"
        },
        "trusted": true,
        "id": "7kEyHOwe5P6k"
      },
      "execution_count": null,
      "outputs": []
    },
    {
      "cell_type": "code",
      "source": [
        "#Top 10 users with the highest number of ratings\n",
        "\n",
        "No_of_ratings = user_ratings['UserID'].value_counts()\n",
        "\n",
        "top_10_users_ratings = No_of_ratings.head(10)\n",
        "\n",
        "print(\"Top 10 Users with the highest number of ratings:\")\n",
        "print(top_10_users_ratings)"
      ],
      "metadata": {
        "execution": {
          "iopub.status.busy": "2024-05-22T14:38:32.897619Z",
          "iopub.execute_input": "2024-05-22T14:38:32.898539Z",
          "iopub.status.idle": "2024-05-22T14:38:32.919859Z",
          "shell.execute_reply.started": "2024-05-22T14:38:32.898496Z",
          "shell.execute_reply": "2024-05-22T14:38:32.918416Z"
        },
        "trusted": true,
        "id": "U0Wu748U5P6k"
      },
      "execution_count": null,
      "outputs": []
    },
    {
      "cell_type": "code",
      "source": [
        "# Merge Movies and ratings data on \"MovieID\"\n",
        "\n",
        "movie_ratings = movies.merge(ratings, on=\"MovieID\")\n",
        "\n",
        "movie_ratings.head(10)"
      ],
      "metadata": {
        "execution": {
          "iopub.status.busy": "2024-05-22T14:38:32.921411Z",
          "iopub.execute_input": "2024-05-22T14:38:32.923047Z",
          "iopub.status.idle": "2024-05-22T14:38:33.164422Z",
          "shell.execute_reply.started": "2024-05-22T14:38:32.922978Z",
          "shell.execute_reply": "2024-05-22T14:38:33.162592Z"
        },
        "trusted": true,
        "id": "4f1vbIom5P6l"
      },
      "execution_count": null,
      "outputs": []
    },
    {
      "cell_type": "code",
      "source": [
        "# Top 10 Movies with the highest number of ratings\n",
        "\n",
        "no_of_movie_ratings = movie_ratings[['MovieID','Title']].value_counts()\n",
        "\n",
        "print(\"Movies with the hightest No of ratings: \")\n",
        "print(no_of_movie_ratings.head(10))"
      ],
      "metadata": {
        "execution": {
          "iopub.status.busy": "2024-05-22T14:38:33.167061Z",
          "iopub.execute_input": "2024-05-22T14:38:33.167901Z",
          "iopub.status.idle": "2024-05-22T14:38:33.383135Z",
          "shell.execute_reply.started": "2024-05-22T14:38:33.167859Z",
          "shell.execute_reply": "2024-05-22T14:38:33.381657Z"
        },
        "trusted": true,
        "id": "Ke7556FZ5P6l"
      },
      "execution_count": null,
      "outputs": []
    },
    {
      "cell_type": "code",
      "source": [
        "no_of_movie_ratings.describe()"
      ],
      "metadata": {
        "execution": {
          "iopub.status.busy": "2024-05-22T14:38:33.385469Z",
          "iopub.execute_input": "2024-05-22T14:38:33.385939Z",
          "iopub.status.idle": "2024-05-22T14:38:33.406763Z",
          "shell.execute_reply.started": "2024-05-22T14:38:33.385882Z",
          "shell.execute_reply": "2024-05-22T14:38:33.404022Z"
        },
        "trusted": true,
        "id": "Qli5b1Qy5P6l"
      },
      "execution_count": null,
      "outputs": []
    },
    {
      "cell_type": "code",
      "source": [
        "# Create subplots\n",
        "fig, ax = plt.subplots(1, 2, figsize=(14, 10))\n",
        "\n",
        "# Plot top 10 users with highest number of ratings\n",
        "No_of_ratings.head(10).plot(kind='bar', color='salmon', ax=ax[0])\n",
        "ax[0].set_title('Top 10 Users with Highest Number of Ratings')\n",
        "ax[0].set_xlabel('User ID')\n",
        "ax[0].set_ylabel('Number of Ratings')\n",
        "\n",
        "\n",
        "# Plot top 10 movies with highest number of ratings\n",
        "no_of_movie_ratings.head(10).plot(kind='bar', color='skyblue', ax=ax[1])\n",
        "ax[1].set_title('Top 10 Movies with Highest Number of Ratings')\n",
        "ax[1].set_xlabel('Movie Title')\n",
        "ax[1].set_ylabel('Number of Ratings')\n",
        "ax[1].tick_params(axis='x', rotation=90)\n",
        "\n",
        "# Display plots\n",
        "plt.tight_layout()\n",
        "plt.show()"
      ],
      "metadata": {
        "execution": {
          "iopub.status.busy": "2024-05-22T14:38:33.408432Z",
          "iopub.execute_input": "2024-05-22T14:38:33.408891Z",
          "iopub.status.idle": "2024-05-22T14:38:34.419837Z",
          "shell.execute_reply.started": "2024-05-22T14:38:33.408856Z",
          "shell.execute_reply": "2024-05-22T14:38:34.417776Z"
        },
        "trusted": true,
        "id": "xtydgbgP5P6m"
      },
      "execution_count": null,
      "outputs": []
    },
    {
      "cell_type": "markdown",
      "source": [
        "# Top 10 Users who rated the most movies\n",
        "\n",
        "From the visualizations above we can see that the top 10 User ID's have rated over a 1000 movies. There are several insights that we can get from this:\n",
        "\n",
        "- **Influence of Highly Active Users:** Highly active users might have an influence on other users through their ratings and reviews. Their engagement can help drive recommendations and influence the viewing choices of less active users.\n",
        "\n",
        "- **Usage Patterns:** The data can also indicate different usage patterns. For instance, these top users might spend more time on the platform and might be more receptive to new features, premium content, or personalized recommendations.\n",
        "\n",
        "- **Content Consumption Trends:** These top users can provide valuable insights into content consumption trends. Understanding what these highly engaged users are watching and rating can help in identifying popular genres or types of content that might appeal to other users.\n",
        "\n",
        "Normally, we consider that the top 10 are outliers cause the description stats states otherwise as 75% of the users,have rated 350 movies or fewer. This further supports the idea that the majority of users are not as highly engaged as the top 10 users. 50% of the users have rated 123.5 movies which indicates a central tendency towards lower engagement levels compared to the highly active top 10 users. 25% of users have rated 33 movies or fewer. This suggests a significant portion of the user base has relatively low engagement."
      ],
      "metadata": {
        "_kg_hide-input": true,
        "id": "DOmScTUz5P6m"
      }
    },
    {
      "cell_type": "markdown",
      "source": [
        "# Top 10 Movies with the Highest Number of Ratings\n",
        "\n",
        "This listing gives you a good idea about the number of movies watched as well as their level of engagement on this platform. Although the ratings may range from 1 to 5, the massive number of ratings indicates a high level of engagement and the interest in these titles among the users.\n",
        "\n",
        "**Top Rated Movies:**\n",
        "\n",
        "- American Beauty (1999) is the most popular or viewed movie in the online cinema with 3428 ratings.\n",
        "\n",
        "- A greater number of people might watch movies like Star Wars, Jurassic Park, Saving Private Ryan, and The Matrix, which are some of the most popular films.\n",
        "\n",
        "- The list predominantly features well-known and critically acclaimed movies from various genres and time periods.\n",
        "\n",
        "**Genres and Eras:**\n",
        "\n",
        "The movies span different genres such as drama (American Beauty), sci-fi (Star Wars, The Matrix), action (Terminator 2), and thriller (Silence of the Lambs).\n",
        "\n",
        "The films also cover a range of release years, from the late 1970s (Star Wars: Episode IV) to the late 1990s (The Matrix).\n",
        "\n",
        "**Consistent Popularity:**\n",
        "\n",
        "The high number of ratings indicates sustained popularity over time, suggesting these movies have a lasting appeal and are frequently viewed and rated by new users."
      ],
      "metadata": {
        "id": "I0g2Ws8z5P6m"
      }
    },
    {
      "cell_type": "code",
      "source": [
        "# Genre with the most Ratings\n",
        "\n",
        "Genres_rating = movies['Genres'].value_counts()\n",
        "\n",
        "Genres_rating.head(50)\n"
      ],
      "metadata": {
        "execution": {
          "iopub.status.busy": "2024-05-22T14:38:34.422435Z",
          "iopub.execute_input": "2024-05-22T14:38:34.424187Z",
          "iopub.status.idle": "2024-05-22T14:38:34.440552Z",
          "shell.execute_reply.started": "2024-05-22T14:38:34.424121Z",
          "shell.execute_reply": "2024-05-22T14:38:34.43891Z"
        },
        "trusted": true,
        "id": "x3rG9X1x5P6n"
      },
      "execution_count": null,
      "outputs": []
    },
    {
      "cell_type": "code",
      "source": [
        "# Plot Top 50 rated Genres\n",
        "\n",
        "plt.figure(figsize=(20, 10))\n",
        "Genres_rating.head(50).plot(kind='bar', color='coral')\n",
        "plt.xlabel('Genre')\n",
        "plt.ylabel('Rating')\n",
        "plt.title('Top 50 Rated Genres')\n",
        "plt.show()"
      ],
      "metadata": {
        "execution": {
          "iopub.status.busy": "2024-05-22T14:38:34.442219Z",
          "iopub.execute_input": "2024-05-22T14:38:34.442914Z",
          "iopub.status.idle": "2024-05-22T14:38:35.378116Z",
          "shell.execute_reply.started": "2024-05-22T14:38:34.442868Z",
          "shell.execute_reply": "2024-05-22T14:38:35.376496Z"
        },
        "trusted": true,
        "id": "Vup0R-mh5P6o"
      },
      "execution_count": null,
      "outputs": []
    },
    {
      "cell_type": "markdown",
      "source": [
        "**This visualization shows genres which are rated the most.**"
      ],
      "metadata": {
        "id": "-L-L4yRB5P6o"
      }
    },
    {
      "cell_type": "code",
      "source": [
        "movies = pd.DataFrame(movies)\n",
        "\n",
        "# Merge User_ratings with movies dataframe based on 'MovieID'\n",
        "Master_data = user_ratings.merge(movies, on='MovieID')\n",
        "\n",
        "# Display the final merged DataFrame\n",
        "Master_data"
      ],
      "metadata": {
        "execution": {
          "iopub.status.busy": "2024-05-22T14:38:35.380678Z",
          "iopub.execute_input": "2024-05-22T14:38:35.381229Z",
          "iopub.status.idle": "2024-05-22T14:38:35.844025Z",
          "shell.execute_reply.started": "2024-05-22T14:38:35.381194Z",
          "shell.execute_reply": "2024-05-22T14:38:35.842464Z"
        },
        "trusted": true,
        "id": "oPzpm8Am5P6p"
      },
      "execution_count": null,
      "outputs": []
    },
    {
      "cell_type": "code",
      "source": [
        "Master_data.describe()"
      ],
      "metadata": {
        "execution": {
          "iopub.status.busy": "2024-05-22T14:38:35.846133Z",
          "iopub.execute_input": "2024-05-22T14:38:35.847658Z",
          "iopub.status.idle": "2024-05-22T14:38:36.090593Z",
          "shell.execute_reply.started": "2024-05-22T14:38:35.847605Z",
          "shell.execute_reply": "2024-05-22T14:38:36.088786Z"
        },
        "trusted": true,
        "id": "-Eu7Z1qD5P6p"
      },
      "execution_count": null,
      "outputs": []
    },
    {
      "cell_type": "code",
      "source": [
        "Master_data.info()"
      ],
      "metadata": {
        "execution": {
          "iopub.status.busy": "2024-05-22T14:38:36.09209Z",
          "iopub.execute_input": "2024-05-22T14:38:36.092514Z",
          "iopub.status.idle": "2024-05-22T14:38:36.437638Z",
          "shell.execute_reply.started": "2024-05-22T14:38:36.092483Z",
          "shell.execute_reply": "2024-05-22T14:38:36.436015Z"
        },
        "trusted": true,
        "id": "_Qt79gWQ5P6p"
      },
      "execution_count": null,
      "outputs": []
    },
    {
      "cell_type": "code",
      "source": [
        "# Creating column AgeGroup for the model\n",
        "\n",
        "bins = [0, 10, 20, 30, 40, 50, 60, float('inf')]\n",
        "labels = ['0-9', '10-19', '20-29', '30-39', '40-49', '50-59', '60+']\n",
        "Master_data['AgeGroup'] = pd.cut(Master_data['Age'], bins=bins, labels=labels, right=False)\n",
        "\n",
        "# Print the categorized age groups\n",
        "print(Master_data[['UserID', 'Age', 'AgeGroup']])\n",
        "\n"
      ],
      "metadata": {
        "execution": {
          "iopub.status.busy": "2024-05-22T14:38:36.440045Z",
          "iopub.execute_input": "2024-05-22T14:38:36.440549Z",
          "iopub.status.idle": "2024-05-22T14:38:36.50178Z",
          "shell.execute_reply.started": "2024-05-22T14:38:36.440509Z",
          "shell.execute_reply": "2024-05-22T14:38:36.499801Z"
        },
        "trusted": true,
        "id": "TTYssgC35P6q"
      },
      "execution_count": null,
      "outputs": []
    },
    {
      "cell_type": "code",
      "source": [
        "# Distribution of Age\n",
        "\n",
        "plt.figure(figsize=(10,6))\n",
        "plt.hist(Master_data['Age'], bins=5, edgecolor='k')\n",
        "plt.title('Age Distribution')\n",
        "plt.xlabel('Age')\n",
        "plt.ylabel('No of Users')\n",
        "plt.show()"
      ],
      "metadata": {
        "execution": {
          "iopub.status.busy": "2024-05-22T14:38:36.503961Z",
          "iopub.execute_input": "2024-05-22T14:38:36.504448Z",
          "iopub.status.idle": "2024-05-22T14:38:36.923445Z",
          "shell.execute_reply.started": "2024-05-22T14:38:36.504412Z",
          "shell.execute_reply": "2024-05-22T14:38:36.92191Z"
        },
        "trusted": true,
        "id": "lyhu3DkX5P6q"
      },
      "execution_count": null,
      "outputs": []
    },
    {
      "cell_type": "code",
      "source": [
        "# Ratings distribution\n",
        "\n",
        "ratings_count = Master_data.groupby('MovieID')['Rating'].count()\n",
        "\n",
        "plt.figure(figsize=(10, 6))\n",
        "plt.hist(ratings_count, bins=50, edgecolor='k', alpha=0.7)\n",
        "plt.title('Movie Ratings Distribution')\n",
        "plt.xlabel('Number of Ratings')\n",
        "plt.ylabel('Number of Movies')\n",
        "plt.show()\n",
        "\n"
      ],
      "metadata": {
        "execution": {
          "iopub.status.busy": "2024-05-22T14:38:36.925715Z",
          "iopub.execute_input": "2024-05-22T14:38:36.926545Z",
          "iopub.status.idle": "2024-05-22T14:38:37.433501Z",
          "shell.execute_reply.started": "2024-05-22T14:38:36.926491Z",
          "shell.execute_reply": "2024-05-22T14:38:37.432204Z"
        },
        "trusted": true,
        "id": "hqhyNA025P6q"
      },
      "execution_count": null,
      "outputs": []
    },
    {
      "cell_type": "code",
      "source": [
        "# Create a histogram of movie ratings\n",
        "plt.hist(Master_data['Rating'], bins=5, range=(1, 5), edgecolor='black')\n",
        "plt.xlabel('Rating')\n",
        "plt.ylabel('Number of Movies')\n",
        "plt.title('Movie Ratings Distribution')\n",
        "plt.show()"
      ],
      "metadata": {
        "execution": {
          "iopub.status.busy": "2024-05-22T14:38:37.435573Z",
          "iopub.execute_input": "2024-05-22T14:38:37.436193Z",
          "iopub.status.idle": "2024-05-22T14:38:37.851756Z",
          "shell.execute_reply.started": "2024-05-22T14:38:37.436136Z",
          "shell.execute_reply": "2024-05-22T14:38:37.85003Z"
        },
        "trusted": true,
        "id": "h4rXtd495P6r"
      },
      "execution_count": null,
      "outputs": []
    },
    {
      "cell_type": "code",
      "source": [
        "# Filter the rows with a rating of 5\n",
        "highly_rated_movies = Master_data[Master_data['Rating'] == 5]\n",
        "\n",
        "# Display the movies with a rating of 5\n",
        "highly_rated_movies"
      ],
      "metadata": {
        "execution": {
          "iopub.status.busy": "2024-05-22T14:38:37.853464Z",
          "iopub.execute_input": "2024-05-22T14:38:37.853881Z",
          "iopub.status.idle": "2024-05-22T14:38:37.911445Z",
          "shell.execute_reply.started": "2024-05-22T14:38:37.853847Z",
          "shell.execute_reply": "2024-05-22T14:38:37.909619Z"
        },
        "trusted": true,
        "id": "sLCu7Sn45P6r"
      },
      "execution_count": null,
      "outputs": []
    },
    {
      "cell_type": "code",
      "source": [
        "# Group by movie title and count 5-star ratings\n",
        "movie_ratings = Master_data[Master_data['Rating'] == 5].groupby('Title')['Rating'].count().reset_index()\n",
        "\n",
        "# Movies with the highest ratings\n",
        "top_rated_movies = movie_ratings.sort_values(by='Rating', ascending=False)\n",
        "\n",
        "# bar plot for the top-rated movies\n",
        "plt.figure(figsize=(12, 6))\n",
        "plt.bar(top_rated_movies['Title'][:20], top_rated_movies['Rating'][:20])\n",
        "plt.xlabel('Movie Title')\n",
        "plt.ylabel('Number of 5-Star Ratings')\n",
        "plt.title('Top-Rated Movies with Many 5-Star Ratings')\n",
        "plt.xticks(rotation=90)  # Rotate x-axis labels for better readability\n",
        "plt.show()"
      ],
      "metadata": {
        "execution": {
          "iopub.status.busy": "2024-05-22T14:38:37.914041Z",
          "iopub.execute_input": "2024-05-22T14:38:37.914813Z",
          "iopub.status.idle": "2024-05-22T14:38:38.588597Z",
          "shell.execute_reply.started": "2024-05-22T14:38:37.914769Z",
          "shell.execute_reply": "2024-05-22T14:38:38.587075Z"
        },
        "trusted": true,
        "id": "9LP5mJ3X5P6s"
      },
      "execution_count": null,
      "outputs": []
    },
    {
      "cell_type": "code",
      "source": [
        "# Filter the rows with a rating of 1\n",
        "low_rated_movies  = Master_data[Master_data['Rating'] == 1]\n",
        "\n",
        "# Display the movies with a rating of 1\n",
        "low_rated_movies"
      ],
      "metadata": {
        "execution": {
          "iopub.status.busy": "2024-05-22T14:38:38.59685Z",
          "iopub.execute_input": "2024-05-22T14:38:38.597381Z",
          "iopub.status.idle": "2024-05-22T14:38:38.650395Z",
          "shell.execute_reply.started": "2024-05-22T14:38:38.597346Z",
          "shell.execute_reply": "2024-05-22T14:38:38.648202Z"
        },
        "trusted": true,
        "id": "aAZZj__k5P6s"
      },
      "execution_count": null,
      "outputs": []
    },
    {
      "cell_type": "code",
      "source": [
        "\n",
        "# Grouping by movie title and count the number of ratings\n",
        "movie_ratings_count = low_rated_movies['Title'].value_counts().reset_index()\n",
        "movie_ratings_count.columns = ['Title', 'Number of 1-Star Ratings']\n",
        "\n",
        "# Sorting the movies by the number of 1-star ratings in descending order\n",
        "top_low_rated_movies = movie_ratings_count.sort_values(by='Number of 1-Star Ratings', ascending=False)\n",
        "\n",
        "\n",
        "# Create a bar plot for the top low-rated movies\n",
        "plt.figure(figsize=(12, 6))\n",
        "plt.bar(top_low_rated_movies['Title'][:20], top_low_rated_movies['Number of 1-Star Ratings'][:20])\n",
        "plt.xlabel('Movie Title')\n",
        "plt.ylabel('Number of 1-Star Ratings')\n",
        "plt.title('Movies with Many 1-Star Ratings')\n",
        "plt.xticks(rotation=90)\n",
        "plt.show()\n"
      ],
      "metadata": {
        "execution": {
          "iopub.status.busy": "2024-05-22T14:38:38.65263Z",
          "iopub.execute_input": "2024-05-22T14:38:38.653114Z",
          "iopub.status.idle": "2024-05-22T14:38:39.313762Z",
          "shell.execute_reply.started": "2024-05-22T14:38:38.653078Z",
          "shell.execute_reply": "2024-05-22T14:38:39.312013Z"
        },
        "trusted": true,
        "id": "v8N1qXpn5P6s"
      },
      "execution_count": null,
      "outputs": []
    },
    {
      "cell_type": "markdown",
      "source": [
        "# Collaborative Filterting Model"
      ],
      "metadata": {
        "id": "-VfHKYAm5P6t"
      }
    },
    {
      "cell_type": "markdown",
      "source": [
        "**Singular Value Decomposition (SVD)**"
      ],
      "metadata": {
        "id": "qiJVlPu65P60"
      }
    },
    {
      "cell_type": "code",
      "source": [
        "\n",
        "# Prepare the dataset for Surprise\n",
        "\n",
        "reader = Reader(rating_scale=(1, 5))\n",
        "data = Dataset.load_from_df(Master_data[['UserID', 'MovieID', 'Rating']], reader)\n",
        "\n",
        "# Split the data into a training set and a testing set\n",
        "trainset, testset = train_test_split(data, test_size=0.2, random_state=42)\n",
        "\n",
        "# Build a collaborative filtering model (SVD)\n",
        "model = SVD(n_factors=100, n_epochs=20, lr_all=0.005, reg_all=0.02)\n",
        "model.fit(trainset)\n",
        "\n",
        "# Make predictions on the test set\n",
        "predictions = model.test(testset)\n",
        "\n",
        "# Evaluate the model using Root Mean Squared Error (RMSE)\n",
        "\n",
        "rmse = accuracy.rmse(predictions)\n",
        "print(f\"RMSE: {rmse:.2f}\")\n",
        "\n",
        "\n",
        "\n",
        "#Print Mean Absolute Error (MAE)\n",
        "\n",
        "mae = accuracy.mae(predictions)\n",
        "print(f\"MAE: {mae:.2f}\")\n",
        "\n",
        "# Get actual ratings and predicted ratings\n",
        "actual_ratings = [pred.r_ui for pred in predictions]\n",
        "predicted_ratings = [pred.est for pred in predictions]\n",
        "\n",
        "# Calculate R-squared\n",
        "mean_rating = sum(actual_ratings) / len(actual_ratings)\n",
        "TSS = sum((rating - mean_rating) ** 2 for rating in actual_ratings)\n",
        "RSS = sum((actual - predicted) ** 2 for actual, predicted in zip(actual_ratings, predicted_ratings))\n",
        "rsquared = 1 - (RSS / TSS)\n",
        "\n",
        "print(f\"R-squared: {rsquared:.4f}\")\n",
        "\n",
        "\n",
        "\n",
        "\n",
        "# Recommend movies for a specific user\n",
        "user_id = 5 # Users ID\n",
        "\n",
        "movies_rated_by_user = Master_data[Master_data['UserID'] == user_id]['MovieID']\n",
        "movies_not_rated_by_user = Master_data[~Master_data['MovieID'].isin(movies_rated_by_user)]\n",
        "movies_to_recommend = movies_not_rated_by_user['MovieID'].unique()\n",
        "\n",
        "user_predictions = [model.predict(user_id, movie_id) for movie_id in movies_to_recommend]\n",
        "\n",
        "# Sort and filter the top movie recommendations by predicted rating\n",
        "sorted_predictions = sorted(user_predictions, key=lambda x: x.est, reverse=True)\n",
        "top_n = 10  # Number of top recommendations to display\n",
        "\n",
        "# Keep track of recommended movies to ensure they are unique\n",
        "recommended_movies = set()\n",
        "top_movie_titles = []\n",
        "\n",
        "for prediction in sorted_predictions:\n",
        "    if len(recommended_movies) >= top_n:\n",
        "        break\n",
        "    if prediction.iid not in recommended_movies:\n",
        "        recommended_movies.add(prediction.iid)\n",
        "        top_movie_titles.append(Master_data[Master_data['MovieID'] == prediction.iid]['Title'].values[0])\n",
        "\n",
        "print(f\"Top {top_n} Movie Recommendations for User {user_id}:\\n\")\n",
        "for i, title in enumerate(top_movie_titles):\n",
        "    print(f\"{i + 1}. {title}\")"
      ],
      "metadata": {
        "execution": {
          "iopub.status.busy": "2024-05-22T14:38:39.316148Z",
          "iopub.execute_input": "2024-05-22T14:38:39.316747Z",
          "iopub.status.idle": "2024-05-22T14:39:12.212989Z",
          "shell.execute_reply.started": "2024-05-22T14:38:39.316689Z",
          "shell.execute_reply": "2024-05-22T14:39:12.211908Z"
        },
        "trusted": true,
        "id": "hYmGq94I5P61"
      },
      "execution_count": null,
      "outputs": []
    },
    {
      "cell_type": "markdown",
      "source": [
        "While the model achieved an RMSE of 0.87 and MAE of 0.69, its performance is considered moderate which is common for recommender systems based on collaborative filtering."
      ],
      "metadata": {
        "id": "lt3FfY2a5P61"
      }
    }
  ]
}